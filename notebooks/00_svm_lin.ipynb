{
 "cells": [
  {
   "cell_type": "markdown",
   "id": "96353c59",
   "metadata": {},
   "source": [
    "# Setup "
   ]
  },
  {
   "cell_type": "markdown",
   "id": "f534da7f",
   "metadata": {},
   "source": [
    "## Imports"
   ]
  },
  {
   "cell_type": "code",
   "execution_count": 112,
   "id": "3ac9c93f",
   "metadata": {},
   "outputs": [],
   "source": [
    "import pandas as pd\n",
    "import numpy as np\n",
    "import time\n",
    "from sklearn.pipeline import Pipeline\n",
    "from sklearn.preprocessing import StandardScaler\n",
    "from sklearn.svm import SVC\n",
    "from sklearn.model_selection import GridSearchCV\n",
    "from sklearn.model_selection import StratifiedKFold\n",
    "from sklearn.impute import SimpleImputer\n",
    "import matplotlib.pyplot as plt\n",
    "from pathlib import Path\n",
    "from typing import Dict, List, Tuple\n",
    "\n",
    "from sklearn.metrics import (\n",
    "    roc_curve, roc_auc_score,\n",
    "    precision_recall_curve, average_precision_score\n",
    ")\n",
    "\n"
   ]
  },
  {
   "cell_type": "markdown",
   "id": "be53a987",
   "metadata": {},
   "source": [
    "## Configs e paths"
   ]
  },
  {
   "cell_type": "code",
   "execution_count": 113,
   "id": "5f05cc7a",
   "metadata": {},
   "outputs": [],
   "source": [
    "FEATURE_DIR   = Path(\"../data/features/hmog_None\")\n",
    "RESULT_DIR    = Path(\"../data/results/svm\")\n",
    "SEED          = 42\n",
    "SENSOR        = 'gyroscope'\n",
    "\n",
    "feature_cols = { \"accelerometer\":\n",
    "    [\n",
    "        'acc_x_mean', 'acc_x_median', 'acc_x_std', 'acc_x_min', 'acc_x_max',\n",
    "        'acc_y_mean', 'acc_y_median', 'acc_y_std', 'acc_y_min', 'acc_y_max',\n",
    "        'acc_z_mean', 'acc_z_median', 'acc_z_std', 'acc_z_min', 'acc_z_max',\n",
    "        'magnitude_mean', 'magnitude_std', 'magnitude_min', 'magnitude_max',\n",
    "        'corr_xz', 'corr_yz'\n",
    "    ],\n",
    "    \"gyroscope\":\n",
    "    [\n",
    "        'gyro_x_mean', 'gyro_x_median', 'gyro_x_std', 'gyro_x_min', 'gyro_x_max',\n",
    "        'gyro_y_mean', 'gyro_y_median', 'gyro_y_std', 'gyro_y_min', 'gyro_y_max',\n",
    "        'gyro_z_mean', 'gyro_z_median', 'gyro_z_std', 'gyro_z_min', 'gyro_z_max',\n",
    "        'magnitude_mean', 'magnitude_std', 'magnitude_min', 'magnitude_max',\n",
    "        'corr_xz', 'corr_yz'\n",
    "    ]\n",
    "}\n",
    "drop_cols = {\"accelerometer\": ['acc_x_skewness', 'acc_x_kurtosis','acc_y_skewness', 'acc_y_kurtosis',\n",
    "                                'acc_z_skewness', 'acc_z_kurtosis','magnitude_skewness', 'magnitude_kurtosis'],\n",
    "            \"gyroscope\": ['gyro_x_skewness', 'gyro_x_kurtosis','gyro_y_skewness', 'gyro_y_kurtosis',\n",
    "                                'gyro_z_skewness', 'gyro_z_kurtosis','magnitude_skewness', 'magnitude_kurtosis']\n",
    "        }\n"
   ]
  },
  {
   "cell_type": "code",
   "execution_count": 114,
   "id": "dcafc01b",
   "metadata": {},
   "outputs": [],
   "source": [
    "pipe = Pipeline([\n",
    "    ('imputer', SimpleImputer(strategy='mean')),\n",
    "    (\"scaler\", StandardScaler()),\n",
    "    (\"svc\", SVC(kernel=\"linear\", class_weight=\"balanced\", probability=False, random_state=SEED)),\n",
    "])\n",
    "param_grid = {\n",
    "    'svc__C': [0.1, 1, 10]\n",
    "}"
   ]
  },
  {
   "cell_type": "markdown",
   "id": "398fe953",
   "metadata": {},
   "source": [
    "## Util functions"
   ]
  },
  {
   "cell_type": "code",
   "execution_count": 115,
   "id": "98b8e238",
   "metadata": {},
   "outputs": [],
   "source": [
    "def compute_metrics(y_true: np.ndarray, scores: np.ndarray) -> Dict[str, float]:\n",
    "    # --- EER / TAR ---\n",
    "    fpr, tpr, thr = roc_curve(y_true, scores)\n",
    "    fnr = 1 - tpr\n",
    "    idx = np.nanargmin(np.abs(fpr - fnr))\n",
    "    eer = (fpr[idx] + fnr[idx]) / 2\n",
    "    tar = tpr[idx]\n",
    "\n",
    "    # --- AUC e Average-Precision ---\n",
    "    auc  = roc_auc_score(y_true, scores)\n",
    "    ap   = average_precision_score(y_true, scores)\n",
    "\n",
    "    # --- FPR @ 95 % TPR (ou o mais perto possível) ---\n",
    "    tpr_target = 0.95\n",
    "    idx95 = np.nanargmin(np.abs(tpr - tpr_target))\n",
    "    fpr95 = fpr[idx95]\n",
    "\n",
    "    return {\n",
    "        \"EER\": eer,\n",
    "        \"TAR\": tar,\n",
    "        \"AUC\": auc,\n",
    "        \"AP\": ap,\n",
    "        \"FPR95_TPR\": fpr95,\n",
    "        \"fpr\": fpr.astype(np.float32),\n",
    "        \"tpr\": tpr.astype(np.float32),\n",
    "    }"
   ]
  },
  {
   "cell_type": "markdown",
   "id": "034392cb",
   "metadata": {},
   "source": [
    "## Main"
   ]
  },
  {
   "cell_type": "markdown",
   "id": "311dfcce",
   "metadata": {},
   "source": [
    "### Load dataframe"
   ]
  },
  {
   "cell_type": "code",
   "execution_count": 116,
   "id": "c9240355",
   "metadata": {},
   "outputs": [],
   "source": [
    "df = pd.read_parquet(FEATURE_DIR / f\"{SENSOR}_features.parquet\")\n",
    "df = df.drop(columns=drop_cols.get(SENSOR, []))"
   ]
  },
  {
   "cell_type": "markdown",
   "id": "7490c104",
   "metadata": {},
   "source": [
    "### Dataframe Info"
   ]
  },
  {
   "cell_type": "code",
   "execution_count": 117,
   "id": "cb67d79b",
   "metadata": {},
   "outputs": [
    {
     "name": "stdout",
     "output_type": "stream",
     "text": [
      "<class 'pandas.core.frame.DataFrame'>\n",
      "RangeIndex: 2451754 entries, 0 to 2451753\n",
      "Data columns (total 26 columns):\n",
      " #   Column          Dtype  \n",
      "---  ------          -----  \n",
      " 0   sensor          object \n",
      " 1   subject_id      object \n",
      " 2   session_number  int64  \n",
      " 3   start_ms        int64  \n",
      " 4   end_ms          int64  \n",
      " 5   gyro_x_mean     float64\n",
      " 6   gyro_x_median   float64\n",
      " 7   gyro_x_std      float64\n",
      " 8   gyro_x_min      float64\n",
      " 9   gyro_x_max      float64\n",
      " 10  gyro_y_mean     float64\n",
      " 11  gyro_y_median   float64\n",
      " 12  gyro_y_std      float64\n",
      " 13  gyro_y_min      float64\n",
      " 14  gyro_y_max      float64\n",
      " 15  gyro_z_mean     float64\n",
      " 16  gyro_z_median   float64\n",
      " 17  gyro_z_std      float64\n",
      " 18  gyro_z_min      float64\n",
      " 19  gyro_z_max      float64\n",
      " 20  magnitude_mean  float64\n",
      " 21  magnitude_std   float64\n",
      " 22  magnitude_min   float64\n",
      " 23  magnitude_max   float64\n",
      " 24  corr_xz         float64\n",
      " 25  corr_yz         float64\n",
      "dtypes: float64(21), int64(3), object(2)\n",
      "memory usage: 486.3+ MB\n"
     ]
    }
   ],
   "source": [
    "df.info()"
   ]
  },
  {
   "cell_type": "markdown",
   "id": "64ad081f",
   "metadata": {},
   "source": [
    "### User picking"
   ]
  },
  {
   "cell_type": "code",
   "execution_count": 118,
   "id": "96784498",
   "metadata": {},
   "outputs": [
    {
     "name": "stdout",
     "output_type": "stream",
     "text": [
      "Selected user: 220962\n"
     ]
    }
   ],
   "source": [
    "users = df['subject_id'].unique()\n",
    "rng = np.random.default_rng(SEED)\n",
    "user = rng.choice(users, 1)[0]\n",
    "\n",
    "print(f\"Selected user: {user}\")\n",
    "\n",
    "results = {}"
   ]
  },
  {
   "cell_type": "markdown",
   "id": "f9ebb8f9",
   "metadata": {},
   "source": [
    "### Train"
   ]
  },
  {
   "cell_type": "code",
   "execution_count": 119,
   "id": "66f1bcdc",
   "metadata": {},
   "outputs": [],
   "source": [
    "user_df = df.copy()\n",
    "user_df['label'] = (user_df['subject_id'] == user).astype(int)\n",
    "sessions = user_df.loc[user_df['label'] == 1, 'session_number'].unique()\n",
    "user_results = []"
   ]
  },
  {
   "cell_type": "code",
   "execution_count": 120,
   "id": "b3dc1ab6",
   "metadata": {},
   "outputs": [
    {
     "name": "stdout",
     "output_type": "stream",
     "text": [
      "\n",
      "Usuário 220962 - Sessão 1\n",
      " Treino original: 2325101 (pos=22697, neg=2302404)\n",
      " Treino subamostrado limitado a 10000 amostras: (pos=3304, neg=6696)\n",
      " Treinamento concluído em 17.81 segundos\n",
      "\n",
      "Usuário 220962 - Sessão 2\n",
      " Treino original: 2324670 (pos=22859, neg=2301811)\n",
      " Treino subamostrado limitado a 10000 amostras: (pos=3370, neg=6630)\n",
      " Treinamento concluído em 21.15 segundos\n",
      "\n",
      "Usuário 220962 - Sessão 3\n",
      " Treino original: 2345433 (pos=23329, neg=2322104)\n",
      " Treino subamostrado limitado a 10000 amostras: (pos=3321, neg=6679)\n",
      " Treinamento concluído em 20.89 segundos\n",
      "\n",
      "Usuário 220962 - Sessão 4\n",
      " Treino original: 2331995 (pos=23216, neg=2308779)\n",
      " Treino subamostrado limitado a 10000 amostras: (pos=3299, neg=6701)\n",
      " Treinamento concluído em 19.22 segundos\n",
      "\n",
      "Usuário 220962 - Sessão 5\n",
      " Treino original: 2348073 (pos=23493, neg=2324580)\n",
      " Treino subamostrado limitado a 10000 amostras: (pos=3324, neg=6676)\n",
      " Treinamento concluído em 13.03 segundos\n",
      "\n",
      "Usuário 220962 - Sessão 6\n",
      " Treino original: 2348695 (pos=22918, neg=2325777)\n",
      " Treino subamostrado limitado a 10000 amostras: (pos=3358, neg=6642)\n",
      " Treinamento concluído em 14.18 segundos\n",
      "\n",
      "Usuário 220962 - Sessão 7\n",
      " Treino original: 2341750 (pos=23094, neg=2318656)\n",
      " Treino subamostrado limitado a 10000 amostras: (pos=3323, neg=6677)\n",
      " Treinamento concluído em 19.27 segundos\n",
      "\n",
      "Usuário 220962 - Sessão 8\n",
      " Treino original: 2344134 (pos=22861, neg=2321273)\n",
      " Treino subamostrado limitado a 10000 amostras: (pos=3316, neg=6684)\n",
      " Treinamento concluído em 18.96 segundos\n",
      "\n",
      "Usuário 220962 - Sessão 9\n",
      " Treino original: 2342446 (pos=23258, neg=2319188)\n",
      " Treino subamostrado limitado a 10000 amostras: (pos=3301, neg=6699)\n",
      " Treinamento concluído em 20.02 segundos\n",
      "\n",
      "Usuário 220962 - Sessão 10\n",
      " Treino original: 2351636 (pos=23814, neg=2327822)\n",
      " Treino subamostrado limitado a 10000 amostras: (pos=3347, neg=6653)\n",
      " Treinamento concluído em 13.82 segundos\n",
      "\n",
      "Usuário 220962 - Sessão 11\n",
      " Treino original: 2352115 (pos=22988, neg=2329127)\n",
      " Treino subamostrado limitado a 10000 amostras: (pos=3357, neg=6643)\n",
      " Treinamento concluído em 13.34 segundos\n",
      "\n",
      "Usuário 220962 - Sessão 12\n",
      " Treino original: 2354492 (pos=23108, neg=2331384)\n",
      " Treino subamostrado limitado a 10000 amostras: (pos=3321, neg=6679)\n",
      " Treinamento concluído em 18.91 segundos\n",
      "\n",
      "Usuário 220962 - Sessão 13\n",
      " Treino original: 2355707 (pos=23814, neg=2331893)\n",
      " Treino subamostrado limitado a 10000 amostras: (pos=3347, neg=6653)\n",
      " Treinamento concluído em 21.23 segundos\n",
      "\n",
      "Usuário 220962 - Sessão 14\n",
      " Treino original: 2356550 (pos=23385, neg=2333165)\n",
      " Treino subamostrado limitado a 10000 amostras: (pos=3348, neg=6652)\n",
      " Treinamento concluído em 19.59 segundos\n",
      "\n",
      "Usuário 220962 - Sessão 15\n",
      " Treino original: 2357733 (pos=23049, neg=2334684)\n",
      " Treino subamostrado limitado a 10000 amostras: (pos=3341, neg=6659)\n",
      " Treinamento concluído em 18.88 segundos\n",
      "\n",
      "Usuário 220962 - Sessão 16\n",
      " Treino original: 2351650 (pos=22867, neg=2328783)\n",
      " Treino subamostrado limitado a 10000 amostras: (pos=3350, neg=6650)\n",
      " Treinamento concluído em 18.94 segundos\n",
      "\n",
      "Usuário 220962 - Sessão 17\n",
      " Treino original: 2353056 (pos=23208, neg=2329848)\n",
      " Treino subamostrado limitado a 10000 amostras: (pos=3331, neg=6669)\n",
      " Treinamento concluído em 13.30 segundos\n",
      "\n",
      "Usuário 220962 - Sessão 18\n",
      " Treino original: 2357490 (pos=22998, neg=2334492)\n",
      " Treino subamostrado limitado a 10000 amostras: (pos=3347, neg=6653)\n",
      " Treinamento concluído em 19.06 segundos\n",
      "\n",
      "Usuário 220962 - Sessão 19\n",
      " Treino original: 2353217 (pos=23226, neg=2329991)\n",
      " Treino subamostrado limitado a 10000 amostras: (pos=3318, neg=6682)\n",
      " Treinamento concluído em 19.52 segundos\n",
      "\n",
      "Usuário 220962 - Sessão 20\n",
      " Treino original: 2360241 (pos=23312, neg=2336929)\n",
      " Treino subamostrado limitado a 10000 amostras: (pos=3315, neg=6685)\n",
      " Treinamento concluído em 19.98 segundos\n",
      "\n",
      "Usuário 220962 - Sessão 21\n",
      " Treino original: 2356229 (pos=23156, neg=2333073)\n",
      " Treino subamostrado limitado a 10000 amostras: (pos=3321, neg=6679)\n",
      " Treinamento concluído em 20.12 segundos\n",
      "\n",
      "Usuário 220962 - Sessão 22\n",
      " Treino original: 2360997 (pos=23038, neg=2337959)\n",
      " Treino subamostrado limitado a 10000 amostras: (pos=3290, neg=6710)\n",
      " Treinamento concluído em 13.06 segundos\n",
      "\n",
      "Usuário 220962 - Sessão 23\n",
      " Treino original: 2354739 (pos=23028, neg=2331711)\n",
      " Treino subamostrado limitado a 10000 amostras: (pos=3343, neg=6657)\n",
      " Treinamento concluído em 13.01 segundos\n",
      "\n",
      "Usuário 220962 - Sessão 24\n",
      " Treino original: 2362193 (pos=23355, neg=2338838)\n",
      " Treino subamostrado limitado a 10000 amostras: (pos=3312, neg=6688)\n",
      " Treinamento concluído em 22.23 segundos\n"
     ]
    }
   ],
   "source": [
    "for test_session in sessions[0:24]: # limitado a 10 sessoes\n",
    "    train_mask = user_df['session_number'] != test_session\n",
    "    test_mask = user_df['session_number'] == test_session\n",
    "\n",
    "    X_train_full = user_df.loc[train_mask, feature_cols.get(SENSOR, [])]\n",
    "    y_train_full = user_df.loc[train_mask, 'label']\n",
    "\n",
    "    ## Cria subamostragem de impostores \n",
    "    pos_idx = y_train_full[y_train_full == 1].index\n",
    "    neg_idx = y_train_full[y_train_full == 0].index\n",
    "    n_pos = len(pos_idx)\n",
    "    n_neg_sample = min(len(neg_idx), n_pos * 2) # 2x impostores\n",
    "    neg_sample_idx = np.random.RandomState(SEED).choice(neg_idx, size=n_neg_sample, replace=False) \n",
    "    \n",
    "    selected_idx = np.concatenate([pos_idx, neg_sample_idx])\n",
    "\n",
    "    max_samples = 10000\n",
    "    if len(selected_idx) > max_samples:\n",
    "        selected_idx = np.random.RandomState(SEED).choice(selected_idx, size=max_samples, replace=False)\n",
    "    \n",
    "    X_train = X_train_full.loc[selected_idx]\n",
    "    y_train = y_train_full.loc[selected_idx]\n",
    "\n",
    "    X_test = user_df.loc[test_mask, feature_cols.get(SENSOR, [])]\n",
    "    y_test = user_df.loc[test_mask, 'label']\n",
    "\n",
    "    mask = X_test.notna().all(axis=1)\n",
    "    X_test = X_test.loc[mask]\n",
    "    y_test = y_test.loc[mask]\n",
    "\n",
    "    print(f\"\\nUsuário {user} - Sessão {test_session}\")\n",
    "    print(f\" Treino original: {X_train_full.shape[0]} (pos={sum(y_train_full)}, neg={len(y_train_full)-sum(y_train_full)})\")\n",
    "    print(f\" Treino subamostrado limitado a {max_samples} amostras: (pos={sum(y_train)}, neg={len(y_train)-sum(y_train)})\")\n",
    "    #print(f\" Teste: {X_test.shape[0]} (pos={sum(y_test)}, neg={len(y_test)-sum(y_test)})\")\n",
    "    \n",
    "    cv_inner = StratifiedKFold(n_splits=3, shuffle=True, random_state=SEED)\n",
    "    grid = GridSearchCV(pipe, param_grid, cv=cv_inner, scoring='roc_auc', n_jobs=-1)\n",
    "    t0 = time.perf_counter()\n",
    "    grid.fit(X_train, y_train)\n",
    "    t1 = time.perf_counter()\n",
    "    train_time = t1 - t0\n",
    "    print(f\" Treinamento concluído em {train_time:.2f} segundos\")\n",
    "\n",
    "    y_score = grid.decision_function(X_test)\n",
    "    metrics = compute_metrics(y_test, y_score)\n",
    "\n",
    "    user_results.append(\n",
    "        {\n",
    "        'sensor': SENSOR,\n",
    "        'session': test_session,\n",
    "        'best_C': grid.best_params_['svc__C'],\n",
    "        \"n_support_vectors\": int(grid.best_estimator_.named_steps[\"svc\"].n_support_.sum()),\n",
    "        \"train_time_sec\": train_time,\n",
    "        \"n_pos_train\": int((y_train==1).sum()),\n",
    "        \"n_neg_train\": int((y_train==0).sum()),\n",
    "        \"n_pos_test\":  int((y_test==1).sum()),\n",
    "        \"n_neg_test\":  int((y_test==0).sum()),\n",
    "        \n",
    "        **metrics\n",
    "        }\n",
    "    )\n",
    "\n",
    "results[user] = pd.DataFrame(user_results)"
   ]
  },
  {
   "cell_type": "markdown",
   "id": "054cddbb",
   "metadata": {},
   "source": [
    "### Results"
   ]
  },
  {
   "cell_type": "code",
   "execution_count": 121,
   "id": "eacd3ab2",
   "metadata": {},
   "outputs": [
    {
     "name": "stdout",
     "output_type": "stream",
     "text": [
      "Resultados para usuário 220962:\n",
      "       sensor  session  best_C  n_support_vectors  train_time_sec  \\\n",
      "0   gyroscope        1       1               8305       17.807481   \n",
      "1   gyroscope        2      10               8324       21.149641   \n",
      "2   gyroscope        3      10               8398       20.888649   \n",
      "3   gyroscope        4      10               8350       19.222499   \n",
      "4   gyroscope        5       1               8317       13.026298   \n",
      "5   gyroscope        6       1               8344       14.177112   \n",
      "6   gyroscope        7      10               8225       19.266428   \n",
      "7   gyroscope        8      10               8232       18.956803   \n",
      "8   gyroscope        9      10               8326       20.019644   \n",
      "9   gyroscope       10       1               8257       13.815751   \n",
      "10  gyroscope       11       1               8546       13.340377   \n",
      "11  gyroscope       12      10               8414       18.907353   \n",
      "12  gyroscope       13      10               8219       21.226119   \n",
      "13  gyroscope       14      10               8288       19.587617   \n",
      "14  gyroscope       15      10               8688       18.877719   \n",
      "15  gyroscope       16      10               8512       18.936913   \n",
      "16  gyroscope       17       1               8336       13.298450   \n",
      "17  gyroscope       18      10               8421       19.063279   \n",
      "18  gyroscope       19      10               8385       19.519990   \n",
      "19  gyroscope       20      10               8379       19.984797   \n",
      "20  gyroscope       21      10               8282       20.116077   \n",
      "21  gyroscope       22       1               8411       13.055482   \n",
      "22  gyroscope       23       1               8527       13.006632   \n",
      "23  gyroscope       24      10               8443       22.227000   \n",
      "\n",
      "    n_pos_train  n_neg_train  n_pos_test  n_neg_test       EER       TAR  \\\n",
      "0          3304         6696        1480      125173  0.373296  0.627027   \n",
      "1          3370         6630        1318      125766  0.343619  0.656297   \n",
      "2          3321         6679         848      105472  0.339762  0.660377   \n",
      "3          3299         6701         961      118797  0.459865  0.540062   \n",
      "4          3324         6676         684      102996  0.419386  0.580409   \n",
      "5          3358         6642        1259      101800  0.468169  0.531374   \n",
      "6          3323         6677        1083      108917  0.543664  0.456140   \n",
      "7          3316         6684        1316      106303  0.403159  0.597264   \n",
      "8          3301         6699         919      108389  0.553841  0.446137   \n",
      "9          3347         6653         363       99754  0.570436  0.429752   \n",
      "10         3357         6643        1189       98450  0.225518  0.774601   \n",
      "11         3321         6679        1069       96191  0.431011  0.568756   \n",
      "12         3347         6653         363       95679  0.432806  0.567493   \n",
      "13         3348         6652         792       94412  0.493719  0.506313   \n",
      "14         3341         6659        1128       92893  0.220876  0.779255   \n",
      "15         3350         6650        1310       98794  0.358611  0.641221   \n",
      "16         3331         6669         969       97729  0.426329  0.573787   \n",
      "17         3347         6653        1179       93085  0.351025  0.648855   \n",
      "18         3318         6682         951       97585  0.533237  0.466877   \n",
      "19         3315         6685         865       90648  0.334766  0.664740   \n",
      "20         3321         6679        1021       94504  0.496604  0.503428   \n",
      "21         3290         6710        1139       89618  0.339723  0.660228   \n",
      "22         3343         6657        1149       95866  0.341997  0.657963   \n",
      "23         3312         6688         822       88739  0.336642  0.664234   \n",
      "\n",
      "         AUC        AP  FPR95_TPR  \\\n",
      "0   0.662343  0.016975   0.756193   \n",
      "1   0.699499  0.022521   0.868422   \n",
      "2   0.702353  0.017393   0.804213   \n",
      "3   0.558033  0.009129   0.876647   \n",
      "4   0.609144  0.009944   0.887986   \n",
      "5   0.541683  0.015117   0.938075   \n",
      "6   0.462352  0.008474   0.892111   \n",
      "7   0.626026  0.020145   0.910736   \n",
      "8   0.439092  0.006913   0.936396   \n",
      "9   0.414501  0.002770   0.902841   \n",
      "10  0.837744  0.057153   0.614850   \n",
      "11  0.594698  0.014086   0.874791   \n",
      "12  0.580573  0.004311   0.845619   \n",
      "13  0.521123  0.008713   0.869434   \n",
      "14  0.839195  0.077903   0.691301   \n",
      "15  0.681848  0.021418   0.726249   \n",
      "16  0.589569  0.010967   0.781477   \n",
      "17  0.687398  0.019673   0.711210   \n",
      "18  0.457616  0.008087   0.897648   \n",
      "19  0.717918  0.026239   0.846218   \n",
      "20  0.513847  0.010397   0.856271   \n",
      "21  0.715247  0.029934   0.818039   \n",
      "22  0.709603  0.021044   0.708426   \n",
      "23  0.710400  0.021091   0.858867   \n",
      "\n",
      "                                                  fpr  \\\n",
      "0   [0.0, 7.988943e-06, 0.00022369041, 0.000223690...   \n",
      "1   [0.0, 7.951275e-06, 0.0007712736, 0.0007712736...   \n",
      "2   [0.0, 9.481189e-06, 0.0002559921, 0.0002559921...   \n",
      "3   [0.0, 8.417721e-06, 0.0007575949, 0.0007575949...   \n",
      "4   [0.0, 9.709115e-06, 0.00053400133, 0.000534001...   \n",
      "5   [0.0, 9.823183e-06, 0.0009037328, 0.0009037328...   \n",
      "6   [0.0, 9.1813035e-06, 0.0029655609, 0.002965560...   \n",
      "7   [0.0, 9.407072e-06, 0.00013169901, 0.000131699...   \n",
      "8   [0.0, 9.226029e-06, 0.0067257746, 0.0067257746...   \n",
      "9   [0.0, 1.0024661e-05, 0.035116386, 0.035116386,...   \n",
      "10  [0.0, 1.0157441e-05, 0.00033519554, 0.00033519...   \n",
      "11  [0.0, 1.0395983e-05, 0.0022767202, 0.002276720...   \n",
      "12  [0.0, 1.0451614e-05, 0.046070717, 0.046070717,...   \n",
      "13  [0.0, 1.0591874e-05, 0.00095326867, 0.00095326...   \n",
      "14  [0.0, 1.0765074e-05, 0.00043060296, 0.00043060...   \n",
      "15  [0.0, 1.0122072e-05, 0.0005972023, 0.000597202...   \n",
      "16  [0.0, 1.02323775e-05, 0.004696661, 0.004696661...   \n",
      "17  [0.0, 1.074287e-05, 0.00026857175, 0.000268571...   \n",
      "18  [0.0, 1.0247477e-05, 0.0016703387, 0.001670338...   \n",
      "19  [0.0, 1.1031683e-05, 0.00033095048, 0.00033095...   \n",
      "20  [0.0, 1.05815625e-05, 0.0009840854, 0.00098408...   \n",
      "21  [0.0, 1.1158472e-05, 0.001417126, 0.001417126,...   \n",
      "22  [0.0, 1.0431227e-05, 0.0021279703, 0.002127970...   \n",
      "23  [0.0, 1.1269002e-05, 0.00070994714, 0.00070994...   \n",
      "\n",
      "                                                  tpr  \n",
      "0   [0.0, 0.0, 0.0, 0.0006756757, 0.0006756757, 0....  \n",
      "1   [0.0, 0.0, 0.0, 0.00075872533, 0.00075872533, ...  \n",
      "2   [0.0, 0.0, 0.0, 0.0011792453, 0.0011792453, 0....  \n",
      "3   [0.0, 0.0, 0.0, 0.0010405828, 0.0010405828, 0....  \n",
      "4   [0.0, 0.0, 0.0, 0.0014619883, 0.0014619883, 0....  \n",
      "5   [0.0, 0.0, 0.0, 0.0007942812, 0.0007942812, 0....  \n",
      "6   [0.0, 0.0, 0.0, 0.00092336105, 0.00092336105, ...  \n",
      "7   [0.0, 0.0, 0.0, 0.0007598784, 0.0007598784, 0....  \n",
      "8   [0.0, 0.0, 0.0, 0.0010881393, 0.0010881393, 0....  \n",
      "9   [0.0, 0.0, 0.0, 0.002754821, 0.002754821, 0.00...  \n",
      "10  [0.0, 0.0, 0.0, 0.0008410429, 0.0008410429, 0....  \n",
      "11  [0.0, 0.0, 0.0, 0.0009354537, 0.0009354537, 0....  \n",
      "12  [0.0, 0.0, 0.0, 0.002754821, 0.002754821, 0.00...  \n",
      "13  [0.0, 0.0, 0.0, 0.0012626263, 0.0012626263, 0....  \n",
      "14  [0.0, 0.0, 0.0, 0.0008865248, 0.0008865248, 0....  \n",
      "15  [0.0, 0.0, 0.0, 0.0007633588, 0.0007633588, 0....  \n",
      "16  [0.0, 0.0, 0.0, 0.0010319918, 0.0010319918, 0....  \n",
      "17  [0.0, 0.0, 0.0, 0.0008481764, 0.0008481764, 0....  \n",
      "18  [0.0, 0.0, 0.0, 0.0010515247, 0.0010515247, 0....  \n",
      "19  [0.0, 0.0, 0.0, 0.0011560693, 0.0011560693, 0....  \n",
      "20  [0.0, 0.0, 0.0, 0.0009794319, 0.0009794319, 0....  \n",
      "21  [0.0, 0.0, 0.0, 0.00087796315, 0.00087796315, ...  \n",
      "22  [0.0, 0.0, 0.0, 0.000870322, 0.000870322, 0.00...  \n",
      "23  [0.0, 0.0, 0.0, 0.001216545, 0.001216545, 0.00...  \n"
     ]
    }
   ],
   "source": [
    "print(f\"Resultados para usuário {user}:\")\n",
    "print(results[user])\n",
    "df_results = pd.DataFrame(results[user])\n",
    "df_results.to_parquet(\n",
    "    Path(RESULT_DIR / f\"{user}_{SENSOR}_verification_results.parquet\"),\n",
    "    index=False,\n",
    ")"
   ]
  },
  {
   "cell_type": "code",
   "execution_count": 122,
   "id": "2d0b0cd4",
   "metadata": {},
   "outputs": [
    {
     "data": {
      "text/plain": [
       "<Axes: title={'center': 'EER'}, xlabel='sensor'>"
      ]
     },
     "execution_count": 122,
     "metadata": {},
     "output_type": "execute_result"
    },
    {
     "data": {
      "image/png": "[encoded data removed]",
      "text/plain": [
       "<Figure size 1200x800 with 1 Axes>"
      ]
     },
     "metadata": {},
     "output_type": "display_data"
    }
   ],
   "source": [
    "df_results.boxplot(\n",
    "    column=['EER'],\n",
    "    by='sensor',\n",
    "    figsize=(12, 8),\n",
    "    rot=45,\n",
    ")"
   ]
  },
  {
   "cell_type": "code",
   "execution_count": 123,
   "id": "502bc681",
   "metadata": {},
   "outputs": [
    {
     "data": {
      "text/plain": [
       "<Axes: xlabel='train_time_sec', ylabel='EER'>"
      ]
     },
     "execution_count": 123,
     "metadata": {},
     "output_type": "execute_result"
    },
    {
     "data": {
      "image/png": "[encoded data removed]",
      "text/plain": [
       "<Figure size 640x480 with 1 Axes>"
      ]
     },
     "metadata": {},
     "output_type": "display_data"
    }
   ],
   "source": [
    "df_results.plot.scatter(\n",
    "    x='train_time_sec',\n",
    "    y='EER'\n",
    ")"
   ]
  },
  {
   "cell_type": "code",
   "execution_count": null,
   "id": "f5fb6c4e",
   "metadata": {},
   "outputs": [],
   "source": []
  }
 ],
 "metadata": {
  "kernelspec": {
   "display_name": ".venv",
   "language": "python",
   "name": "python3"
  },
  "language_info": {
   "codemirror_mode": {
    "name": "ipython",
    "version": 3
   },
   "file_extension": ".py",
   "mimetype": "text/x-python",
   "name": "python",
   "nbconvert_exporter": "python",
   "pygments_lexer": "ipython3",
   "version": "3.11.12"
  }
 },
 "nbformat": 4,
 "nbformat_minor": 5
}
