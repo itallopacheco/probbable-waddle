{
 "cells": [
  {
   "cell_type": "markdown",
   "id": "96353c59",
   "metadata": {},
   "source": [
    "# Setup "
   ]
  },
  {
   "cell_type": "markdown",
   "id": "f534da7f",
   "metadata": {},
   "source": [
    "## Imports"
   ]
  },
  {
   "cell_type": "code",
   "execution_count": 55,
   "id": "3ac9c93f",
   "metadata": {},
   "outputs": [],
   "source": [
    "import pandas as pd\n",
    "import numpy as np\n",
    "import time\n",
    "from sklearn.pipeline import Pipeline\n",
    "from sklearn.preprocessing import StandardScaler\n",
    "from sklearn.svm import SVC\n",
    "from sklearn.model_selection import GridSearchCV\n",
    "from sklearn.metrics import roc_curve\n",
    "from sklearn.model_selection import StratifiedKFold\n",
    "from sklearn.impute import SimpleImputer\n",
    "import matplotlib.pyplot as plt\n",
    "from pathlib import Path\n",
    "from typing import Dict, List, Tuple\n",
    "\n"
   ]
  },
  {
   "cell_type": "markdown",
   "id": "be53a987",
   "metadata": {},
   "source": [
    "## Configs e paths"
   ]
  },
  {
   "cell_type": "code",
   "execution_count": 56,
   "id": "5f05cc7a",
   "metadata": {},
   "outputs": [],
   "source": [
    "FEATURE_DIR   = Path(\"../data/features/hmog_None\")\n",
    "RESULT_DIR    = Path(\"../data/results/svm\")\n",
    "SEED          = 42\n",
    "SENSOR        = 'accelerometer'\n",
    "\n",
    "feature_cols = [\n",
    "    'acc_x_mean', 'acc_x_median', 'acc_x_std', 'acc_x_min', 'acc_x_max',\n",
    "    'acc_y_mean', 'acc_y_median', 'acc_y_std', 'acc_y_min', 'acc_y_max',\n",
    "    'acc_z_mean', 'acc_z_median', 'acc_z_std', 'acc_z_min', 'acc_z_max',\n",
    "    'magnitude_mean', 'magnitude_std', 'magnitude_min', 'magnitude_max',\n",
    "    'corr_xz', 'corr_yz'\n",
    "]\n",
    "drop_cols = {\"accelerometer\": ['acc_x_skewness', 'acc_x_kurtosis','acc_y_skewness', 'acc_y_kurtosis',\n",
    "                                'acc_z_skewness', 'acc_z_kurtosis','magnitude_skewness', 'magnitude_kurtosis'],\n",
    "            \"gyroscope\": ['gyro_x_skewness', 'gyro_x_kurtosis','gyro_y_skewness', 'gyro_y_kurtosis',\n",
    "                                'gyro_z_skewness', 'gyro_z_kurtosis','magnitude_skewness', 'magnitude_kurtosis']\n",
    "        }\n"
   ]
  },
  {
   "cell_type": "code",
   "execution_count": 57,
   "id": "dcafc01b",
   "metadata": {},
   "outputs": [],
   "source": [
    "pipe = Pipeline([\n",
    "    ('imputer', SimpleImputer(strategy='mean')),\n",
    "    (\"scaler\", StandardScaler()),\n",
    "    (\"svc\", SVC(kernel=\"linear\", class_weight=\"balanced\", probability=False, random_state=SEED)),\n",
    "])\n",
    "param_grid = {\n",
    "    'svc__C': [0.1, 1, 10]\n",
    "}"
   ]
  },
  {
   "cell_type": "markdown",
   "id": "398fe953",
   "metadata": {},
   "source": [
    "## Util functions"
   ]
  },
  {
   "cell_type": "code",
   "execution_count": 58,
   "id": "98b8e238",
   "metadata": {},
   "outputs": [],
   "source": [
    "def compute_eer(y_true: np.ndarray, scores: np.ndarray) -> Tuple[float, float]:\n",
    "    fpr, tpr, _ = roc_curve(y_true, scores)\n",
    "    fnr = 1 - tpr\n",
    "    idx = np.nanargmin(np.abs(fpr - fnr))\n",
    "    eer = (fpr[idx] + fnr[idx]) / 2.0\n",
    "    tar = tpr[idx]\n",
    "    return float(eer), float(tar)"
   ]
  },
  {
   "cell_type": "markdown",
   "id": "034392cb",
   "metadata": {},
   "source": [
    "## Main"
   ]
  },
  {
   "cell_type": "markdown",
   "id": "311dfcce",
   "metadata": {},
   "source": [
    "### Load dataframe"
   ]
  },
  {
   "cell_type": "code",
   "execution_count": 59,
   "id": "c9240355",
   "metadata": {},
   "outputs": [],
   "source": [
    "df = pd.read_parquet(FEATURE_DIR / f\"{SENSOR}_features.parquet\")\n",
    "df = df.drop(columns=drop_cols.get(SENSOR, []))"
   ]
  },
  {
   "cell_type": "markdown",
   "id": "7490c104",
   "metadata": {},
   "source": [
    "### Dataframe Info"
   ]
  },
  {
   "cell_type": "code",
   "execution_count": 60,
   "id": "cb67d79b",
   "metadata": {},
   "outputs": [
    {
     "name": "stdout",
     "output_type": "stream",
     "text": [
      "<class 'pandas.core.frame.DataFrame'>\n",
      "RangeIndex: 2446046 entries, 0 to 2446045\n",
      "Data columns (total 26 columns):\n",
      " #   Column          Dtype  \n",
      "---  ------          -----  \n",
      " 0   sensor          object \n",
      " 1   subject_id      object \n",
      " 2   session_number  int64  \n",
      " 3   start_ms        int64  \n",
      " 4   end_ms          int64  \n",
      " 5   acc_x_mean      float64\n",
      " 6   acc_x_median    float64\n",
      " 7   acc_x_std       float64\n",
      " 8   acc_x_min       float64\n",
      " 9   acc_x_max       float64\n",
      " 10  acc_y_mean      float64\n",
      " 11  acc_y_median    float64\n",
      " 12  acc_y_std       float64\n",
      " 13  acc_y_min       float64\n",
      " 14  acc_y_max       float64\n",
      " 15  acc_z_mean      float64\n",
      " 16  acc_z_median    float64\n",
      " 17  acc_z_std       float64\n",
      " 18  acc_z_min       float64\n",
      " 19  acc_z_max       float64\n",
      " 20  magnitude_mean  float64\n",
      " 21  magnitude_std   float64\n",
      " 22  magnitude_min   float64\n",
      " 23  magnitude_max   float64\n",
      " 24  corr_xz         float64\n",
      " 25  corr_yz         float64\n",
      "dtypes: float64(21), int64(3), object(2)\n",
      "memory usage: 485.2+ MB\n"
     ]
    }
   ],
   "source": [
    "df.info()"
   ]
  },
  {
   "cell_type": "markdown",
   "id": "64ad081f",
   "metadata": {},
   "source": [
    "### User picking"
   ]
  },
  {
   "cell_type": "code",
   "execution_count": 61,
   "id": "96784498",
   "metadata": {},
   "outputs": [
    {
     "name": "stdout",
     "output_type": "stream",
     "text": [
      "Selected user: 220962\n"
     ]
    }
   ],
   "source": [
    "users = df['subject_id'].unique()\n",
    "rng = np.random.default_rng(SEED)\n",
    "user = rng.choice(users, 1)[0]\n",
    "\n",
    "print(f\"Selected user: {user}\")\n",
    "\n",
    "results = {}"
   ]
  },
  {
   "cell_type": "markdown",
   "id": "f9ebb8f9",
   "metadata": {},
   "source": [
    "### Train"
   ]
  },
  {
   "cell_type": "code",
   "execution_count": 62,
   "id": "66f1bcdc",
   "metadata": {},
   "outputs": [],
   "source": [
    "user_df = df.copy()\n",
    "user_df['label'] = (user_df['subject_id'] == user).astype(int)\n",
    "sessions = user_df.loc[user_df['label'] == 1, 'session_number'].unique()\n",
    "user_results = []"
   ]
  },
  {
   "cell_type": "code",
   "execution_count": 63,
   "id": "b3dc1ab6",
   "metadata": {},
   "outputs": [
    {
     "name": "stdout",
     "output_type": "stream",
     "text": [
      "\n",
      "Usuário 220962 - Sessão 1\n",
      " Treino original: 2319392 (pos=22697, neg=2296695)\n",
      " Treino subamostrado limitado a 10000 amostras: (pos=3304, neg=6696)\n",
      " Treinamento concluído em 10.03 segundos\n",
      "\n",
      "Usuário 220962 - Sessão 2\n",
      " Treino original: 2318962 (pos=22859, neg=2296103)\n",
      " Treino subamostrado limitado a 10000 amostras: (pos=3370, neg=6630)\n",
      " Treinamento concluído em 8.66 segundos\n",
      "\n",
      "Usuário 220962 - Sessão 3\n",
      " Treino original: 2339723 (pos=23329, neg=2316394)\n",
      " Treino subamostrado limitado a 10000 amostras: (pos=3321, neg=6679)\n",
      " Treinamento concluído em 4.90 segundos\n",
      "\n",
      "Usuário 220962 - Sessão 4\n",
      " Treino original: 2326287 (pos=23216, neg=2303071)\n",
      " Treino subamostrado limitado a 10000 amostras: (pos=3299, neg=6701)\n",
      " Treinamento concluído em 7.94 segundos\n",
      "\n",
      "Usuário 220962 - Sessão 5\n",
      " Treino original: 2342364 (pos=23493, neg=2318871)\n",
      " Treino subamostrado limitado a 10000 amostras: (pos=3324, neg=6676)\n",
      " Treinamento concluído em 7.98 segundos\n",
      "\n",
      "Usuário 220962 - Sessão 6\n",
      " Treino original: 2342986 (pos=22918, neg=2320068)\n",
      " Treino subamostrado limitado a 10000 amostras: (pos=3358, neg=6642)\n",
      " Treinamento concluído em 7.64 segundos\n",
      "\n",
      "Usuário 220962 - Sessão 7\n",
      " Treino original: 2336040 (pos=23094, neg=2312946)\n",
      " Treino subamostrado limitado a 10000 amostras: (pos=3323, neg=6677)\n",
      " Treinamento concluído em 7.86 segundos\n",
      "\n",
      "Usuário 220962 - Sessão 8\n",
      " Treino original: 2338424 (pos=22861, neg=2315563)\n",
      " Treino subamostrado limitado a 10000 amostras: (pos=3316, neg=6684)\n",
      " Treinamento concluído em 8.74 segundos\n",
      "\n",
      "Usuário 220962 - Sessão 9\n",
      " Treino original: 2337763 (pos=23258, neg=2314505)\n",
      " Treino subamostrado limitado a 10000 amostras: (pos=3301, neg=6699)\n",
      " Treinamento concluído em 7.25 segundos\n",
      "\n",
      "Usuário 220962 - Sessão 10\n",
      " Treino original: 2346907 (pos=23814, neg=2323093)\n",
      " Treino subamostrado limitado a 10000 amostras: (pos=3347, neg=6653)\n",
      " Treinamento concluído em 8.11 segundos\n",
      "\n",
      "Usuário 220962 - Sessão 11\n",
      " Treino original: 2347198 (pos=22988, neg=2324210)\n",
      " Treino subamostrado limitado a 10000 amostras: (pos=3357, neg=6643)\n",
      " Treinamento concluído em 8.51 segundos\n",
      "\n",
      "Usuário 220962 - Sessão 12\n",
      " Treino original: 2349671 (pos=23108, neg=2326563)\n",
      " Treino subamostrado limitado a 10000 amostras: (pos=3321, neg=6679)\n",
      " Treinamento concluído em 8.15 segundos\n",
      "\n",
      "Usuário 220962 - Sessão 13\n",
      " Treino original: 2350888 (pos=23814, neg=2327074)\n",
      " Treino subamostrado limitado a 10000 amostras: (pos=3347, neg=6653)\n",
      " Treinamento concluído em 8.65 segundos\n",
      "\n",
      "Usuário 220962 - Sessão 14\n",
      " Treino original: 2351996 (pos=23385, neg=2328611)\n",
      " Treino subamostrado limitado a 10000 amostras: (pos=3348, neg=6652)\n",
      " Treinamento concluído em 8.22 segundos\n",
      "\n",
      "Usuário 220962 - Sessão 15\n",
      " Treino original: 2352022 (pos=23049, neg=2328973)\n",
      " Treino subamostrado limitado a 10000 amostras: (pos=3341, neg=6659)\n",
      " Treinamento concluído em 8.00 segundos\n",
      "\n",
      "Usuário 220962 - Sessão 16\n",
      " Treino original: 2345941 (pos=22867, neg=2323074)\n",
      " Treino subamostrado limitado a 10000 amostras: (pos=3350, neg=6650)\n",
      " Treinamento concluído em 8.31 segundos\n",
      "\n",
      "Usuário 220962 - Sessão 17\n",
      " Treino original: 2347347 (pos=23208, neg=2324139)\n",
      " Treino subamostrado limitado a 10000 amostras: (pos=3331, neg=6669)\n",
      " Treinamento concluído em 8.60 segundos\n",
      "\n",
      "Usuário 220962 - Sessão 18\n",
      " Treino original: 2351781 (pos=22998, neg=2328783)\n",
      " Treino subamostrado limitado a 10000 amostras: (pos=3347, neg=6653)\n",
      " Treinamento concluído em 5.13 segundos\n",
      "\n",
      "Usuário 220962 - Sessão 19\n",
      " Treino original: 2347510 (pos=23226, neg=2324284)\n",
      " Treino subamostrado limitado a 10000 amostras: (pos=3318, neg=6682)\n",
      " Treinamento concluído em 8.15 segundos\n",
      "\n",
      "Usuário 220962 - Sessão 20\n",
      " Treino original: 2354532 (pos=23312, neg=2331220)\n",
      " Treino subamostrado limitado a 10000 amostras: (pos=3315, neg=6685)\n",
      " Treinamento concluído em 8.64 segundos\n",
      "\n",
      "Usuário 220962 - Sessão 21\n",
      " Treino original: 2350520 (pos=23156, neg=2327364)\n",
      " Treino subamostrado limitado a 10000 amostras: (pos=3321, neg=6679)\n",
      " Treinamento concluído em 7.88 segundos\n",
      "\n",
      "Usuário 220962 - Sessão 22\n",
      " Treino original: 2355289 (pos=23038, neg=2332251)\n",
      " Treino subamostrado limitado a 10000 amostras: (pos=3290, neg=6710)\n",
      " Treinamento concluído em 8.09 segundos\n",
      "\n",
      "Usuário 220962 - Sessão 23\n",
      " Treino original: 2349030 (pos=23028, neg=2326002)\n",
      " Treino subamostrado limitado a 10000 amostras: (pos=3343, neg=6657)\n",
      " Treinamento concluído em 5.10 segundos\n",
      "\n",
      "Usuário 220962 - Sessão 24\n",
      " Treino original: 2356485 (pos=23355, neg=2333130)\n",
      " Treino subamostrado limitado a 10000 amostras: (pos=3312, neg=6688)\n",
      " Treinamento concluído em 8.18 segundos\n"
     ]
    }
   ],
   "source": [
    "for test_session in sessions[0:24]: # limitado a 10 sessoes\n",
    "    train_mask = user_df['session_number'] != test_session\n",
    "    test_mask = user_df['session_number'] == test_session\n",
    "\n",
    "    X_train_full = user_df.loc[train_mask, feature_cols]\n",
    "    y_train_full = user_df.loc[train_mask, 'label']\n",
    "\n",
    "    ## Cria subamostragem de impostores \n",
    "    pos_idx = y_train_full[y_train_full == 1].index\n",
    "    neg_idx = y_train_full[y_train_full == 0].index\n",
    "    n_pos = len(pos_idx)\n",
    "    n_neg_sample = min(len(neg_idx), n_pos * 2) # 2x impostores\n",
    "    neg_sample_idx = np.random.RandomState(SEED).choice(neg_idx, size=n_neg_sample, replace=False) \n",
    "    \n",
    "    selected_idx = np.concatenate([pos_idx, neg_sample_idx])\n",
    "\n",
    "    max_samples = 10000\n",
    "    if len(selected_idx) > max_samples:\n",
    "        selected_idx = np.random.RandomState(SEED).choice(selected_idx, size=max_samples, replace=False)\n",
    "    \n",
    "    X_train = X_train_full.loc[selected_idx]\n",
    "    y_train = y_train_full.loc[selected_idx]\n",
    "\n",
    "    X_test = user_df.loc[test_mask, feature_cols]\n",
    "    y_test = user_df.loc[test_mask, 'label']\n",
    "\n",
    "    mask = X_test.notna().all(axis=1)\n",
    "    X_test = X_test.loc[mask]\n",
    "    y_test = y_test.loc[mask]\n",
    "\n",
    "    print(f\"\\nUsuário {user} - Sessão {test_session}\")\n",
    "    print(f\" Treino original: {X_train_full.shape[0]} (pos={sum(y_train_full)}, neg={len(y_train_full)-sum(y_train_full)})\")\n",
    "    print(f\" Treino subamostrado limitado a {max_samples} amostras: (pos={sum(y_train)}, neg={len(y_train)-sum(y_train)})\")\n",
    "    #print(f\" Teste: {X_test.shape[0]} (pos={sum(y_test)}, neg={len(y_test)-sum(y_test)})\")\n",
    "    \n",
    "    cv_inner = StratifiedKFold(n_splits=3, shuffle=True, random_state=SEED)\n",
    "    grid = GridSearchCV(pipe, param_grid, cv=cv_inner, scoring='roc_auc', n_jobs=-1)\n",
    "    t0 = time.perf_counter()\n",
    "    grid.fit(X_train, y_train)\n",
    "    t1 = time.perf_counter()\n",
    "    print(f\" Treinamento concluído em {t1 - t0:.2f} segundos\")\n",
    "\n",
    "    y_score = grid.decision_function(X_test)\n",
    "    eer, tar = compute_eer(y_test, y_score)\n",
    "\n",
    "    user_results.append(\n",
    "        {\n",
    "        'sensor': SENSOR,\n",
    "        'session': test_session,\n",
    "        'EER': eer,\n",
    "        'TAR': tar,\n",
    "        'train_samples': len(X_train),\n",
    "        'best_C': grid.best_params_['svc__C'],\n",
    "        }\n",
    "    )\n",
    "\n",
    "results[user] = pd.DataFrame(user_results)"
   ]
  },
  {
   "cell_type": "markdown",
   "id": "054cddbb",
   "metadata": {},
   "source": [
    "### Results"
   ]
  },
  {
   "cell_type": "code",
   "execution_count": 75,
   "id": "eacd3ab2",
   "metadata": {},
   "outputs": [
    {
     "name": "stdout",
     "output_type": "stream",
     "text": [
      "Resultados para usuário 220962:\n",
      "           sensor  session       EER       TAR  train_samples  best_C\n",
      "0   accelerometer        1  0.028230  0.971622          10000      10\n",
      "1   accelerometer        2  0.148894  0.851290          10000      10\n",
      "2   accelerometer        3  0.144864  0.854953          10000       1\n",
      "3   accelerometer        4  0.086703  0.913632          10000      10\n",
      "4   accelerometer        5  0.028897  0.970760          10000      10\n",
      "5   accelerometer        6  0.040657  0.959492          10000      10\n",
      "6   accelerometer        7  0.279009  0.721145          10000      10\n",
      "7   accelerometer        8  0.042376  0.957447          10000      10\n",
      "8   accelerometer        9  0.343627  0.656148          10000      10\n",
      "9   accelerometer       10  0.167793  0.831956          10000      10\n",
      "10  accelerometer       11  0.034342  0.965517          10000      10\n",
      "11  accelerometer       12  0.037234  0.962582          10000      10\n",
      "12  accelerometer       13  0.027104  0.972452          10000      10\n",
      "13  accelerometer       14  0.276755  0.723485          10000      10\n",
      "14  accelerometer       15  0.123340  0.876773          10000      10\n",
      "15  accelerometer       16  0.191793  0.808397          10000      10\n",
      "16  accelerometer       17  0.100006  0.899897          10000      10\n",
      "17  accelerometer       18  0.068739  0.931298          10000       1\n",
      "18  accelerometer       19  0.259883  0.740273          10000      10\n",
      "19  accelerometer       20  0.149306  0.850867          10000      10\n",
      "20  accelerometer       21  0.134342  0.865818          10000      10\n",
      "21  accelerometer       22  0.071966  0.928007          10000      10\n",
      "22  accelerometer       23  0.142950  0.857267          10000       1\n",
      "23  accelerometer       24  0.153221  0.846715          10000      10\n"
     ]
    }
   ],
   "source": [
    "print(f\"Resultados para usuário {user}:\")\n",
    "print(results[user])\n",
    "df_results = pd.DataFrame(results[user])\n",
    "df_results.to_parquet(\n",
    "    Path(RESULT_DIR / f\"{SENSOR}_verification_results.parquet\"),\n",
    "    index=False,\n",
    ")"
   ]
  },
  {
   "cell_type": "code",
   "execution_count": 79,
   "id": "2d0b0cd4",
   "metadata": {},
   "outputs": [],
   "source": [
    "summary = df_results.groupby(\"sensor\")[\"EER\"].agg([\"mean\", \"std\"]).sort_values(\"mean\")\n"
   ]
  },
  {
   "cell_type": "code",
   "execution_count": 74,
   "id": "bcc090c1",
   "metadata": {},
   "outputs": [
    {
     "ename": "AttributeError",
     "evalue": "This 'GridSearchCV' has no attribute 'predict_proba'",
     "output_type": "error",
     "traceback": [
      "\u001b[31m---------------------------------------------------------------------------\u001b[39m",
      "\u001b[31mAttributeError\u001b[39m                            Traceback (most recent call last)",
      "\u001b[36mFile \u001b[39m\u001b[32m~/Applications/tcc/.venv/lib/python3.11/site-packages/sklearn/utils/_available_if.py:32\u001b[39m, in \u001b[36m_AvailableIfDescriptor._check\u001b[39m\u001b[34m(self, obj, owner)\u001b[39m\n\u001b[32m     31\u001b[39m \u001b[38;5;28;01mtry\u001b[39;00m:\n\u001b[32m---> \u001b[39m\u001b[32m32\u001b[39m     check_result = \u001b[38;5;28;43mself\u001b[39;49m\u001b[43m.\u001b[49m\u001b[43mcheck\u001b[49m\u001b[43m(\u001b[49m\u001b[43mobj\u001b[49m\u001b[43m)\u001b[49m\n\u001b[32m     33\u001b[39m \u001b[38;5;28;01mexcept\u001b[39;00m \u001b[38;5;167;01mException\u001b[39;00m \u001b[38;5;28;01mas\u001b[39;00m e:\n",
      "\u001b[36mFile \u001b[39m\u001b[32m~/Applications/tcc/.venv/lib/python3.11/site-packages/sklearn/svm/_base.py:831\u001b[39m, in \u001b[36mBaseSVC._check_proba\u001b[39m\u001b[34m(self)\u001b[39m\n\u001b[32m    830\u001b[39m \u001b[38;5;28;01mif\u001b[39;00m \u001b[38;5;129;01mnot\u001b[39;00m \u001b[38;5;28mself\u001b[39m.probability:\n\u001b[32m--> \u001b[39m\u001b[32m831\u001b[39m     \u001b[38;5;28;01mraise\u001b[39;00m \u001b[38;5;167;01mAttributeError\u001b[39;00m(\n\u001b[32m    832\u001b[39m         \u001b[33m\"\u001b[39m\u001b[33mpredict_proba is not available when probability=False\u001b[39m\u001b[33m\"\u001b[39m\n\u001b[32m    833\u001b[39m     )\n\u001b[32m    834\u001b[39m \u001b[38;5;28;01mif\u001b[39;00m \u001b[38;5;28mself\u001b[39m._impl \u001b[38;5;129;01mnot\u001b[39;00m \u001b[38;5;129;01min\u001b[39;00m (\u001b[33m\"\u001b[39m\u001b[33mc_svc\u001b[39m\u001b[33m\"\u001b[39m, \u001b[33m\"\u001b[39m\u001b[33mnu_svc\u001b[39m\u001b[33m\"\u001b[39m):\n",
      "\u001b[31mAttributeError\u001b[39m: predict_proba is not available when probability=False",
      "\nThe above exception was the direct cause of the following exception:\n",
      "\u001b[31mAttributeError\u001b[39m                            Traceback (most recent call last)",
      "\u001b[36mFile \u001b[39m\u001b[32m~/Applications/tcc/.venv/lib/python3.11/site-packages/sklearn/utils/_available_if.py:32\u001b[39m, in \u001b[36m_AvailableIfDescriptor._check\u001b[39m\u001b[34m(self, obj, owner)\u001b[39m\n\u001b[32m     31\u001b[39m \u001b[38;5;28;01mtry\u001b[39;00m:\n\u001b[32m---> \u001b[39m\u001b[32m32\u001b[39m     check_result = \u001b[38;5;28;43mself\u001b[39;49m\u001b[43m.\u001b[49m\u001b[43mcheck\u001b[49m\u001b[43m(\u001b[49m\u001b[43mobj\u001b[49m\u001b[43m)\u001b[49m\n\u001b[32m     33\u001b[39m \u001b[38;5;28;01mexcept\u001b[39;00m \u001b[38;5;167;01mException\u001b[39;00m \u001b[38;5;28;01mas\u001b[39;00m e:\n",
      "\u001b[36mFile \u001b[39m\u001b[32m~/Applications/tcc/.venv/lib/python3.11/site-packages/sklearn/pipeline.py:78\u001b[39m, in \u001b[36m_final_estimator_has.<locals>.check\u001b[39m\u001b[34m(self)\u001b[39m\n\u001b[32m     76\u001b[39m \u001b[38;5;28;01mdef\u001b[39;00m\u001b[38;5;250m \u001b[39m\u001b[34mcheck\u001b[39m(\u001b[38;5;28mself\u001b[39m):\n\u001b[32m     77\u001b[39m     \u001b[38;5;66;03m# raise original `AttributeError` if `attr` does not exist\u001b[39;00m\n\u001b[32m---> \u001b[39m\u001b[32m78\u001b[39m     \u001b[38;5;28mgetattr\u001b[39m(\u001b[38;5;28mself\u001b[39m._final_estimator, attr)\n\u001b[32m     79\u001b[39m     \u001b[38;5;28;01mreturn\u001b[39;00m \u001b[38;5;28;01mTrue\u001b[39;00m\n",
      "\u001b[36mFile \u001b[39m\u001b[32m~/Applications/tcc/.venv/lib/python3.11/site-packages/sklearn/utils/_available_if.py:43\u001b[39m, in \u001b[36m_AvailableIfDescriptor.__get__\u001b[39m\u001b[34m(self, obj, owner)\u001b[39m\n\u001b[32m     40\u001b[39m \u001b[38;5;28;01mif\u001b[39;00m obj \u001b[38;5;129;01mis\u001b[39;00m \u001b[38;5;129;01mnot\u001b[39;00m \u001b[38;5;28;01mNone\u001b[39;00m:\n\u001b[32m     41\u001b[39m     \u001b[38;5;66;03m# delegate only on instances, not the classes.\u001b[39;00m\n\u001b[32m     42\u001b[39m     \u001b[38;5;66;03m# this is to allow access to the docstrings.\u001b[39;00m\n\u001b[32m---> \u001b[39m\u001b[32m43\u001b[39m     \u001b[38;5;28;43mself\u001b[39;49m\u001b[43m.\u001b[49m\u001b[43m_check\u001b[49m\u001b[43m(\u001b[49m\u001b[43mobj\u001b[49m\u001b[43m,\u001b[49m\u001b[43m \u001b[49m\u001b[43mowner\u001b[49m\u001b[43m=\u001b[49m\u001b[43mowner\u001b[49m\u001b[43m)\u001b[49m\n\u001b[32m     44\u001b[39m     out = MethodType(\u001b[38;5;28mself\u001b[39m.fn, obj)\n",
      "\u001b[36mFile \u001b[39m\u001b[32m~/Applications/tcc/.venv/lib/python3.11/site-packages/sklearn/utils/_available_if.py:34\u001b[39m, in \u001b[36m_AvailableIfDescriptor._check\u001b[39m\u001b[34m(self, obj, owner)\u001b[39m\n\u001b[32m     33\u001b[39m \u001b[38;5;28;01mexcept\u001b[39;00m \u001b[38;5;167;01mException\u001b[39;00m \u001b[38;5;28;01mas\u001b[39;00m e:\n\u001b[32m---> \u001b[39m\u001b[32m34\u001b[39m     \u001b[38;5;28;01mraise\u001b[39;00m \u001b[38;5;167;01mAttributeError\u001b[39;00m(attr_err_msg) \u001b[38;5;28;01mfrom\u001b[39;00m\u001b[38;5;250m \u001b[39m\u001b[34;01me\u001b[39;00m\n\u001b[32m     36\u001b[39m \u001b[38;5;28;01mif\u001b[39;00m \u001b[38;5;129;01mnot\u001b[39;00m check_result:\n",
      "\u001b[31mAttributeError\u001b[39m: This 'SVC' has no attribute 'predict_proba'",
      "\nThe above exception was the direct cause of the following exception:\n",
      "\u001b[31mAttributeError\u001b[39m                            Traceback (most recent call last)",
      "\u001b[36mFile \u001b[39m\u001b[32m~/Applications/tcc/.venv/lib/python3.11/site-packages/sklearn/utils/_available_if.py:32\u001b[39m, in \u001b[36m_AvailableIfDescriptor._check\u001b[39m\u001b[34m(self, obj, owner)\u001b[39m\n\u001b[32m     31\u001b[39m \u001b[38;5;28;01mtry\u001b[39;00m:\n\u001b[32m---> \u001b[39m\u001b[32m32\u001b[39m     check_result = \u001b[38;5;28;43mself\u001b[39;49m\u001b[43m.\u001b[49m\u001b[43mcheck\u001b[49m\u001b[43m(\u001b[49m\u001b[43mobj\u001b[49m\u001b[43m)\u001b[49m\n\u001b[32m     33\u001b[39m \u001b[38;5;28;01mexcept\u001b[39;00m \u001b[38;5;167;01mException\u001b[39;00m \u001b[38;5;28;01mas\u001b[39;00m e:\n",
      "\u001b[36mFile \u001b[39m\u001b[32m~/Applications/tcc/.venv/lib/python3.11/site-packages/sklearn/model_selection/_search.py:374\u001b[39m, in \u001b[36m_search_estimator_has.<locals>.check\u001b[39m\u001b[34m(self)\u001b[39m\n\u001b[32m    372\u001b[39m \u001b[38;5;28;01mif\u001b[39;00m \u001b[38;5;28mhasattr\u001b[39m(\u001b[38;5;28mself\u001b[39m, \u001b[33m\"\u001b[39m\u001b[33mbest_estimator_\u001b[39m\u001b[33m\"\u001b[39m):\n\u001b[32m    373\u001b[39m     \u001b[38;5;66;03m# raise an AttributeError if `attr` does not exist\u001b[39;00m\n\u001b[32m--> \u001b[39m\u001b[32m374\u001b[39m     \u001b[38;5;28mgetattr\u001b[39m(\u001b[38;5;28mself\u001b[39m.best_estimator_, attr)\n\u001b[32m    375\u001b[39m     \u001b[38;5;28;01mreturn\u001b[39;00m \u001b[38;5;28;01mTrue\u001b[39;00m\n",
      "\u001b[36mFile \u001b[39m\u001b[32m~/Applications/tcc/.venv/lib/python3.11/site-packages/sklearn/utils/_available_if.py:43\u001b[39m, in \u001b[36m_AvailableIfDescriptor.__get__\u001b[39m\u001b[34m(self, obj, owner)\u001b[39m\n\u001b[32m     40\u001b[39m \u001b[38;5;28;01mif\u001b[39;00m obj \u001b[38;5;129;01mis\u001b[39;00m \u001b[38;5;129;01mnot\u001b[39;00m \u001b[38;5;28;01mNone\u001b[39;00m:\n\u001b[32m     41\u001b[39m     \u001b[38;5;66;03m# delegate only on instances, not the classes.\u001b[39;00m\n\u001b[32m     42\u001b[39m     \u001b[38;5;66;03m# this is to allow access to the docstrings.\u001b[39;00m\n\u001b[32m---> \u001b[39m\u001b[32m43\u001b[39m     \u001b[38;5;28;43mself\u001b[39;49m\u001b[43m.\u001b[49m\u001b[43m_check\u001b[49m\u001b[43m(\u001b[49m\u001b[43mobj\u001b[49m\u001b[43m,\u001b[49m\u001b[43m \u001b[49m\u001b[43mowner\u001b[49m\u001b[43m=\u001b[49m\u001b[43mowner\u001b[49m\u001b[43m)\u001b[49m\n\u001b[32m     44\u001b[39m     out = MethodType(\u001b[38;5;28mself\u001b[39m.fn, obj)\n",
      "\u001b[36mFile \u001b[39m\u001b[32m~/Applications/tcc/.venv/lib/python3.11/site-packages/sklearn/utils/_available_if.py:34\u001b[39m, in \u001b[36m_AvailableIfDescriptor._check\u001b[39m\u001b[34m(self, obj, owner)\u001b[39m\n\u001b[32m     33\u001b[39m \u001b[38;5;28;01mexcept\u001b[39;00m \u001b[38;5;167;01mException\u001b[39;00m \u001b[38;5;28;01mas\u001b[39;00m e:\n\u001b[32m---> \u001b[39m\u001b[32m34\u001b[39m     \u001b[38;5;28;01mraise\u001b[39;00m \u001b[38;5;167;01mAttributeError\u001b[39;00m(attr_err_msg) \u001b[38;5;28;01mfrom\u001b[39;00m\u001b[38;5;250m \u001b[39m\u001b[34;01me\u001b[39;00m\n\u001b[32m     36\u001b[39m \u001b[38;5;28;01mif\u001b[39;00m \u001b[38;5;129;01mnot\u001b[39;00m check_result:\n",
      "\u001b[31mAttributeError\u001b[39m: This 'Pipeline' has no attribute 'predict_proba'",
      "\nThe above exception was the direct cause of the following exception:\n",
      "\u001b[31mAttributeError\u001b[39m                            Traceback (most recent call last)",
      "\u001b[36mCell\u001b[39m\u001b[36m \u001b[39m\u001b[32mIn[74]\u001b[39m\u001b[32m, line 4\u001b[39m\n\u001b[32m      2\u001b[39m X_test = df[(df[\u001b[33m'\u001b[39m\u001b[33msubject_id\u001b[39m\u001b[33m'\u001b[39m] == user) & (df[\u001b[33m'\u001b[39m\u001b[33msession_number\u001b[39m\u001b[33m'\u001b[39m] == sel[\u001b[33m'\u001b[39m\u001b[33msession\u001b[39m\u001b[33m'\u001b[39m])][feature_cols]\n\u001b[32m      3\u001b[39m y_test = (df[\u001b[33m'\u001b[39m\u001b[33msubject_id\u001b[39m\u001b[33m'\u001b[39m] == user).astype(\u001b[38;5;28mint\u001b[39m)\n\u001b[32m----> \u001b[39m\u001b[32m4\u001b[39m y_score = \u001b[43mgrid\u001b[49m\u001b[43m.\u001b[49m\u001b[43mpredict_proba\u001b[49m(X_test)[:, \u001b[32m1\u001b[39m]\n",
      "\u001b[36mFile \u001b[39m\u001b[32m~/Applications/tcc/.venv/lib/python3.11/site-packages/sklearn/utils/_available_if.py:43\u001b[39m, in \u001b[36m_AvailableIfDescriptor.__get__\u001b[39m\u001b[34m(self, obj, owner)\u001b[39m\n\u001b[32m     39\u001b[39m \u001b[38;5;28;01mdef\u001b[39;00m\u001b[38;5;250m \u001b[39m\u001b[34m__get__\u001b[39m(\u001b[38;5;28mself\u001b[39m, obj, owner=\u001b[38;5;28;01mNone\u001b[39;00m):\n\u001b[32m     40\u001b[39m     \u001b[38;5;28;01mif\u001b[39;00m obj \u001b[38;5;129;01mis\u001b[39;00m \u001b[38;5;129;01mnot\u001b[39;00m \u001b[38;5;28;01mNone\u001b[39;00m:\n\u001b[32m     41\u001b[39m         \u001b[38;5;66;03m# delegate only on instances, not the classes.\u001b[39;00m\n\u001b[32m     42\u001b[39m         \u001b[38;5;66;03m# this is to allow access to the docstrings.\u001b[39;00m\n\u001b[32m---> \u001b[39m\u001b[32m43\u001b[39m         \u001b[38;5;28;43mself\u001b[39;49m\u001b[43m.\u001b[49m\u001b[43m_check\u001b[49m\u001b[43m(\u001b[49m\u001b[43mobj\u001b[49m\u001b[43m,\u001b[49m\u001b[43m \u001b[49m\u001b[43mowner\u001b[49m\u001b[43m=\u001b[49m\u001b[43mowner\u001b[49m\u001b[43m)\u001b[49m\n\u001b[32m     44\u001b[39m         out = MethodType(\u001b[38;5;28mself\u001b[39m.fn, obj)\n\u001b[32m     46\u001b[39m     \u001b[38;5;28;01melse\u001b[39;00m:\n\u001b[32m     47\u001b[39m         \u001b[38;5;66;03m# This makes it possible to use the decorated method as an unbound method,\u001b[39;00m\n\u001b[32m     48\u001b[39m         \u001b[38;5;66;03m# for instance when monkeypatching.\u001b[39;00m\n",
      "\u001b[36mFile \u001b[39m\u001b[32m~/Applications/tcc/.venv/lib/python3.11/site-packages/sklearn/utils/_available_if.py:34\u001b[39m, in \u001b[36m_AvailableIfDescriptor._check\u001b[39m\u001b[34m(self, obj, owner)\u001b[39m\n\u001b[32m     32\u001b[39m     check_result = \u001b[38;5;28mself\u001b[39m.check(obj)\n\u001b[32m     33\u001b[39m \u001b[38;5;28;01mexcept\u001b[39;00m \u001b[38;5;167;01mException\u001b[39;00m \u001b[38;5;28;01mas\u001b[39;00m e:\n\u001b[32m---> \u001b[39m\u001b[32m34\u001b[39m     \u001b[38;5;28;01mraise\u001b[39;00m \u001b[38;5;167;01mAttributeError\u001b[39;00m(attr_err_msg) \u001b[38;5;28;01mfrom\u001b[39;00m\u001b[38;5;250m \u001b[39m\u001b[34;01me\u001b[39;00m\n\u001b[32m     36\u001b[39m \u001b[38;5;28;01mif\u001b[39;00m \u001b[38;5;129;01mnot\u001b[39;00m check_result:\n\u001b[32m     37\u001b[39m     \u001b[38;5;28;01mraise\u001b[39;00m \u001b[38;5;167;01mAttributeError\u001b[39;00m(attr_err_msg)\n",
      "\u001b[31mAttributeError\u001b[39m: This 'GridSearchCV' has no attribute 'predict_proba'"
     ]
    }
   ],
   "source": [
    "sel = results[user].iloc[0]\n",
    "X_test = df[(df['subject_id'] == user) & (df['session_number'] == sel['session'])][feature_cols]\n",
    "y_test = (df['subject_id'] == user).astype(int)\n",
    "y_score = grid.predict_proba(X_test)[:, 1]"
   ]
  },
  {
   "cell_type": "code",
   "execution_count": null,
   "id": "502bc681",
   "metadata": {},
   "outputs": [],
   "source": []
  }
 ],
 "metadata": {
  "kernelspec": {
   "display_name": ".venv",
   "language": "python",
   "name": "python3"
  },
  "language_info": {
   "codemirror_mode": {
    "name": "ipython",
    "version": 3
   },
   "file_extension": ".py",
   "mimetype": "text/x-python",
   "name": "python",
   "nbconvert_exporter": "python",
   "pygments_lexer": "ipython3",
   "version": "3.11.12"
  }
 },
 "nbformat": 4,
 "nbformat_minor": 5
}
